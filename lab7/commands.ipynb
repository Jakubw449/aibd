{
 "cells": [
  {
   "cell_type": "code",
   "execution_count": 34,
   "metadata": {},
   "outputs": [],
   "source": [
    "import pandas as pd\n",
    "import numpy as np\n",
    "from patsy import dmatrices\n",
    "from sklearn import metrics, model_selection\n",
    "from sklearn.linear_model import LinearRegression, LogisticRegression\n",
    "import matplotlib.pyplot as plt\n",
    "from sklearn.metrics import classification_report\n"
   ]
  },
  {
   "cell_type": "code",
   "execution_count": 5,
   "metadata": {},
   "outputs": [
    {
     "name": "stdout",
     "output_type": "stream",
     "text": [
      "   Hours  Scores\n",
      "0    2.5      21\n",
      "1    5.1      47\n",
      "2    3.2      27\n",
      "3    8.5      75\n",
      "4    3.5      30\n",
      "           Hours     Scores\n",
      "count  25.000000  25.000000\n",
      "mean    5.012000  51.480000\n",
      "std     2.525094  25.286887\n",
      "min     1.100000  17.000000\n",
      "25%     2.700000  30.000000\n",
      "50%     4.800000  47.000000\n",
      "75%     7.400000  75.000000\n",
      "max     9.200000  95.000000\n",
      "(25, 2)\n"
     ]
    }
   ],
   "source": [
    "df = pd.read_csv('C:/Users/koobie/laboratorium-lin-model-Jakubw449/SCORES.csv')\n",
    "print(df.head())\n",
    "print(df.describe())\n",
    "print(df.shape)"
   ]
  },
  {
   "cell_type": "code",
   "execution_count": 6,
   "metadata": {},
   "outputs": [
    {
     "data": {
      "text/plain": [
       "<AxesSubplot:xlabel='Hours', ylabel='Scores'>"
      ]
     },
     "execution_count": 6,
     "metadata": {},
     "output_type": "execute_result"
    },
    {
     "data": {
      "image/png": "[encoded data removed]",
      "text/plain": [
       "<Figure size 432x288 with 1 Axes>"
      ]
     },
     "metadata": {
      "needs_background": "light"
     },
     "output_type": "display_data"
    }
   ],
   "source": [
    "df.plot.scatter('Hours', 'Scores')"
   ]
  },
  {
   "cell_type": "code",
   "execution_count": 7,
   "metadata": {},
   "outputs": [
    {
     "name": "stdout",
     "output_type": "stream",
     "text": [
      "Wspóczynnik modelu(coef_): [[8.9011474]]\n",
      "Wskaźnik modelu(intercept_): [6.95895852]\n"
     ]
    }
   ],
   "source": [
    "H = df['Hours'].to_numpy()\n",
    "S = df['Scores'].to_numpy()\n",
    "H = H.reshape(-1, 1)\n",
    "S = S.reshape(-1, 1)\n",
    "H_train, H_test, S_train, S_test = model_selection.train_test_split(H, S, train_size=0.30, test_size=0.3)\n",
    "reg = LinearRegression().fit(H_train, S_train)\n",
    "print('Wspóczynnik modelu(coef_): ' + str(reg.coef_))\n",
    "print('Wskaźnik modelu(intercept_): ' + str(reg.intercept_))\n",
    "\n",
    "# coef - Estimated coefficients for the linear regression problem\n",
    "# intercept - Independent term in the linear model."
   ]
  },
  {
   "cell_type": "code",
   "execution_count": 8,
   "metadata": {},
   "outputs": [
    {
     "name": "stdout",
     "output_type": "stream",
     "text": [
      "Wartości przewidywane: \n",
      "[[30.99205649]\n",
      " [49.68446602]\n",
      " [40.78331862]\n",
      " [72.82744925]\n",
      " [29.21182701]\n",
      " [82.61871139]\n",
      " [59.47572816]\n",
      " [68.37687555]]\n",
      "\n",
      " Wartości testowe: \n",
      "[[25]\n",
      " [54]\n",
      " [35]\n",
      " [69]\n",
      " [21]\n",
      " [75]\n",
      " [62]\n",
      " [76]]\n"
     ]
    }
   ],
   "source": [
    "y_predict = reg.predict(H_test)\n",
    "print('Wartości przewidywane: ')\n",
    "print(y_predict)\n",
    "print('\\n Wartości testowe: ')\n",
    "print(S_test)"
   ]
  },
  {
   "cell_type": "code",
   "execution_count": 9,
   "metadata": {},
   "outputs": [
    {
     "data": {
      "image/png": "[encoded data removed]",
      "text/plain": [
       "<Figure size 432x288 with 1 Axes>"
      ]
     },
     "metadata": {
      "needs_background": "light"
     },
     "output_type": "display_data"
    }
   ],
   "source": [
    "plt.scatter(H_test, S_test, label='wartości przewidywane')\n",
    "plt.xlabel('Hours')\n",
    "plt.ylabel('Scores')\n",
    "plt.plot(H_test ,y_predict, color='r', label='linia regresji')\n",
    "plt.legend()\n",
    "plt.title('Wyres konfrontujący dane testowe')\n",
    "plt.show()"
   ]
  },
  {
   "cell_type": "code",
   "execution_count": 10,
   "metadata": {},
   "outputs": [
    {
     "name": "stdout",
     "output_type": "stream",
     "text": [
      "Mean absolute error: 5.737036628420123\n",
      "Mean squared error: 36.57344465345578\n",
      "Root mean squared error: 6.047598254965005\n"
     ]
    }
   ],
   "source": [
    "print('Mean absolute error: ' + str(metrics.mean_absolute_error(y_predict, S_test)))\n",
    "print('Mean squared error: ' + str(metrics.mean_squared_error(y_predict, S_test)))\n",
    "print('Root mean squared error: ' + str(np.sqrt(metrics.mean_squared_error(y_predict, S_test))))"
   ]
  },
  {
   "cell_type": "code",
   "execution_count": 11,
   "metadata": {},
   "outputs": [
    {
     "name": "stdout",
     "output_type": "stream",
     "text": [
      "   Age  SBP\n",
      "0   60  117\n",
      "1   61  120\n",
      "2   74  145\n",
      "3   57  129\n",
      "4   63  132\n",
      "             Age         SBP\n",
      "count  19.000000   19.000000\n",
      "mean   64.947368  129.421053\n",
      "std     7.214751   13.454928\n",
      "min    54.000000  111.000000\n",
      "25%    60.500000  119.000000\n",
      "50%    63.000000  129.000000\n",
      "75%    68.500000  137.000000\n",
      "max    79.000000  163.000000\n",
      "(19, 2)\n"
     ]
    },
    {
     "data": {
      "image/png": "[encoded data removed]",
      "text/plain": [
       "<Figure size 432x288 with 1 Axes>"
      ]
     },
     "metadata": {
      "needs_background": "light"
     },
     "output_type": "display_data"
    },
    {
     "name": "stdout",
     "output_type": "stream",
     "text": [
      "Wspóczynnik modelu(coef_): [[0.84182306]]\n",
      "Wskaźnik modelu(intercept_): [68.57640751]\n",
      "Wartości przewidywane: \n",
      "[[115.71849866]\n",
      " [116.56032172]\n",
      " [125.82037534]\n",
      " [135.08042895]\n",
      " [119.08579088]\n",
      " [133.39678284]]\n",
      "\n",
      " Wartości testowe: \n",
      "[[124]\n",
      " [129]\n",
      " [130]\n",
      " [138]\n",
      " [117]\n",
      " [163]]\n"
     ]
    },
    {
     "data": {
      "image/png": "[encoded data removed]",
      "text/plain": [
       "<Figure size 432x288 with 1 Axes>"
      ]
     },
     "metadata": {
      "needs_background": "light"
     },
     "output_type": "display_data"
    },
    {
     "name": "stdout",
     "output_type": "stream",
     "text": [
      "Mean absolute error: 9.918230563002675\n",
      "Mean squared error: 188.3371679041272\n",
      "Root mean squared error: 13.723598941390236\n"
     ]
    }
   ],
   "source": [
    "df = pd.read_csv('C:/Users/koobie/laboratorium-lin-model-Jakubw449/SBP.csv')\n",
    "print(df.head())\n",
    "print(df.describe())\n",
    "print(df.shape)\n",
    "df.plot.scatter('Age', 'SBP')\n",
    "plt.show()\n",
    "H = df['Age'].to_numpy()\n",
    "S = df['SBP'].to_numpy()\n",
    "H = H.reshape(-1, 1)\n",
    "S = S.reshape(-1, 1)\n",
    "H_train, H_test, S_train, S_test = model_selection.train_test_split(H, S, train_size=0.30, test_size=0.3)\n",
    "reg = LinearRegression().fit(H_train, S_train)\n",
    "print('Wspóczynnik modelu(coef_): ' + str(reg.coef_))\n",
    "print('Wskaźnik modelu(intercept_): ' + str(reg.intercept_))\n",
    "y_predict = reg.predict(H_test)\n",
    "print('Wartości przewidywane: ')\n",
    "print(y_predict)\n",
    "print('\\n Wartości testowe: ')\n",
    "print(S_test)\n",
    "plt.scatter(H_test, S_test, label='wartości przewidywane')\n",
    "plt.xlabel('Age')\n",
    "plt.ylabel('ABP')\n",
    "plt.plot(H_test ,y_predict, color='r', label='linia regresji')\n",
    "plt.legend()\n",
    "plt.title('Wyres konfrontujący dane testowe')\n",
    "plt.show()\n",
    "print('Mean absolute error: ' + str(metrics.mean_absolute_error(y_predict, S_test)))\n",
    "print('Mean squared error: ' + str(metrics.mean_squared_error(y_predict, S_test)))\n",
    "print('Root mean squared error: ' + str(np.sqrt(metrics.mean_squared_error(y_predict, S_test))))"
   ]
  },
  {
   "cell_type": "code",
   "execution_count": 12,
   "metadata": {},
   "outputs": [
    {
     "name": "stdout",
     "output_type": "stream",
     "text": [
      "   Podatek_paliwowy  Sredni_przychod  Utwardzone_autostrady  \\\n",
      "0               9.0             3571                   1976   \n",
      "1               9.0             4092                   1250   \n",
      "2               9.0             3865                   1586   \n",
      "3               7.5             4870                   2351   \n",
      "4               8.0             4399                    431   \n",
      "\n",
      "   Procent_ludnosci_z_prawem_jazdy  Zuzycie_paliwa  \n",
      "0                            0.525             541  \n",
      "1                            0.572             524  \n",
      "2                            0.580             561  \n",
      "3                            0.529             414  \n",
      "4                            0.544             410  \n",
      "       Podatek_paliwowy  Sredni_przychod  Utwardzone_autostrady  \\\n",
      "count         48.000000        48.000000              48.000000   \n",
      "mean           7.668333      4241.833333            5565.416667   \n",
      "std            0.950770       573.623768            3491.507166   \n",
      "min            5.000000      3063.000000             431.000000   \n",
      "25%            7.000000      3739.000000            3110.250000   \n",
      "50%            7.500000      4298.000000            4735.500000   \n",
      "75%            8.125000      4578.750000            7156.000000   \n",
      "max           10.000000      5342.000000           17782.000000   \n",
      "\n",
      "       Procent_ludnosci_z_prawem_jazdy  Zuzycie_paliwa  \n",
      "count                        48.000000       48.000000  \n",
      "mean                          0.570333      576.770833  \n",
      "std                           0.055470      111.885816  \n",
      "min                           0.451000      344.000000  \n",
      "25%                           0.529750      509.500000  \n",
      "50%                           0.564500      568.500000  \n",
      "75%                           0.595250      632.750000  \n",
      "max                           0.724000      968.000000  \n",
      "(48, 5)\n"
     ]
    },
    {
     "data": {
      "image/png": "[encoded data removed]",
      "text/plain": [
       "<Figure size 432x288 with 1 Axes>"
      ]
     },
     "metadata": {
      "needs_background": "light"
     },
     "output_type": "display_data"
    },
    {
     "name": "stdout",
     "output_type": "stream",
     "text": [
      "Wspóczynnik modelu(coef_): [[-0.00678617]]\n",
      "Wskaźnik modelu(intercept_): [11.5169668]\n",
      "Wartości przewidywane: \n",
      "[[7.96101161]\n",
      " [7.42490387]\n",
      " [7.80492961]\n",
      " [7.62170291]\n",
      " [8.32067884]\n",
      " [7.89314987]\n",
      " [7.25524951]\n",
      " [7.64206143]\n",
      " [6.73950029]\n",
      " [7.85243283]\n",
      " [8.39532675]\n",
      " [8.70749075]\n",
      " [6.21017872]\n",
      " [7.75742639]\n",
      " [5.64692627]]\n",
      "\n",
      " Wartości testowe: \n",
      "[[7. ]\n",
      " [7. ]\n",
      " [9. ]\n",
      " [8. ]\n",
      " [7.5]\n",
      " [9. ]\n",
      " [7.5]\n",
      " [7. ]\n",
      " [7. ]\n",
      " [8. ]\n",
      " [8.5]\n",
      " [7.5]\n",
      " [6. ]\n",
      " [7. ]\n",
      " [7. ]]\n"
     ]
    },
    {
     "data": {
      "image/png": "[encoded data removed]",
      "text/plain": [
       "<Figure size 432x288 with 1 Axes>"
      ]
     },
     "metadata": {
      "needs_background": "light"
     },
     "output_type": "display_data"
    },
    {
     "name": "stdout",
     "output_type": "stream",
     "text": [
      "Mean absolute error: 0.6543022372929329\n",
      "Mean squared error: 0.6035646732636184\n",
      "Root mean squared error: 0.7768942484428742\n"
     ]
    },
    {
     "data": {
      "image/png": "[encoded data removed]",
      "text/plain": [
       "<Figure size 432x288 with 1 Axes>"
      ]
     },
     "metadata": {
      "needs_background": "light"
     },
     "output_type": "display_data"
    },
    {
     "name": "stdout",
     "output_type": "stream",
     "text": [
      "Wspóczynnik modelu(coef_): [[-0.4631803]]\n",
      "Wskaźnik modelu(intercept_): [4630.62986245]\n",
      "Wartości przewidywane: \n",
      "[[4334.1944706 ]\n",
      " [4387.92338538]\n",
      " [4471.29583933]\n",
      " [4399.96607317]\n",
      " [4330.48902821]\n",
      " [4338.3630933 ]\n",
      " [4229.97890316]\n",
      " [4387.92338538]\n",
      " [4380.51250058]\n",
      " [4438.87321835]\n",
      " [4394.40790957]\n",
      " [4363.37482949]\n",
      " [4339.7526342 ]\n",
      " [4412.47194126]\n",
      " [4356.89030529]]\n",
      "\n",
      " Wartości testowe: \n",
      "[[4045]\n",
      " [5002]\n",
      " [5319]\n",
      " [4512]\n",
      " [3635]\n",
      " [3846]\n",
      " [4716]\n",
      " [4092]\n",
      " [4983]\n",
      " [4870]\n",
      " [4476]\n",
      " [3063]\n",
      " [3357]\n",
      " [5126]\n",
      " [3745]]\n"
     ]
    },
    {
     "data": {
      "image/png": "[encoded data removed]",
      "text/plain": [
       "<Figure size 432x288 with 1 Axes>"
      ]
     },
     "metadata": {
      "needs_background": "light"
     },
     "output_type": "display_data"
    },
    {
     "name": "stdout",
     "output_type": "stream",
     "text": [
      "Mean absolute error: 570.43719837774\n",
      "Mean squared error: 422507.9511576227\n",
      "Root mean squared error: 650.0061162463186\n"
     ]
    },
    {
     "data": {
      "image/png": "[encoded data removed]",
      "text/plain": [
       "<Figure size 432x288 with 1 Axes>"
      ]
     },
     "metadata": {
      "needs_background": "light"
     },
     "output_type": "display_data"
    },
    {
     "name": "stdout",
     "output_type": "stream",
     "text": [
      "Wspóczynnik modelu(coef_): [[-2.73923532]]\n",
      "Wskaźnik modelu(intercept_): [6983.08034154]\n",
      "Wartości przewidywane: \n",
      "[[5859.993859  ]\n",
      " [5723.03209284]\n",
      " [5375.14920678]\n",
      " [5731.24979881]\n",
      " [5432.67314857]\n",
      " [6040.78339034]\n",
      " [5410.75926599]\n",
      " [5219.01279336]\n",
      " [5849.03691771]\n",
      " [5054.65867396]\n",
      " [5251.88361724]\n",
      " [5402.54156002]\n",
      " [5364.19226549]\n",
      " [5586.07032667]\n",
      " [5649.07273911]]\n",
      "\n",
      " Wartości testowe: \n",
      "[[  431]\n",
      " [ 2619]\n",
      " [ 4639]\n",
      " [ 1333]\n",
      " [ 4746]\n",
      " [11868]\n",
      " [ 5975]\n",
      " [ 7834]\n",
      " [ 2351]\n",
      " [ 6385]\n",
      " [ 3635]\n",
      " [ 6524]\n",
      " [ 2611]\n",
      " [ 3942]\n",
      " [ 3495]]\n"
     ]
    },
    {
     "data": {
      "image/png": "[encoded data removed]",
      "text/plain": [
       "<Figure size 432x288 with 1 Axes>"
      ]
     },
     "metadata": {
      "needs_background": "light"
     },
     "output_type": "display_data"
    },
    {
     "name": "stdout",
     "output_type": "stream",
     "text": [
      "Mean absolute error: 2498.573219237548\n",
      "Mean squared error: 8892074.791228404\n",
      "Root mean squared error: 2981.9582141989185\n"
     ]
    },
    {
     "data": {
      "image/png": "[encoded data removed]",
      "text/plain": [
       "<Figure size 432x288 with 1 Axes>"
      ]
     },
     "metadata": {
      "needs_background": "light"
     },
     "output_type": "display_data"
    },
    {
     "name": "stdout",
     "output_type": "stream",
     "text": [
      "Wspóczynnik modelu(coef_): [[0.00022667]]\n",
      "Wskaźnik modelu(intercept_): [0.43448538]\n",
      "Wartości przewidywane: \n",
      "[[0.5652743 ]\n",
      " [0.57774118]\n",
      " [0.51246005]\n",
      " [0.55688749]\n",
      " [0.55711416]\n",
      " [0.57275443]\n",
      " [0.55008737]\n",
      " [0.57955454]\n",
      " [0.55326076]\n",
      " [0.56844768]\n",
      " [0.54487395]\n",
      " [0.52742031]\n",
      " [0.52832699]\n",
      " [0.53807383]\n",
      " [0.53966052]]\n",
      "\n",
      " Wartości testowe: \n",
      "[[0.578]\n",
      " [0.603]\n",
      " [0.451]\n",
      " [0.602]\n",
      " [0.525]\n",
      " [0.623]\n",
      " [0.571]\n",
      " [0.566]\n",
      " [0.593]\n",
      " [0.508]\n",
      " [0.487]\n",
      " [0.544]\n",
      " [0.529]\n",
      " [0.571]\n",
      " [0.511]]\n"
     ]
    },
    {
     "data": {
      "image/png": "[encoded data removed]",
      "text/plain": [
       "<Figure size 432x288 with 1 Axes>"
      ]
     },
     "metadata": {
      "needs_background": "light"
     },
     "output_type": "display_data"
    },
    {
     "name": "stdout",
     "output_type": "stream",
     "text": [
      "Mean absolute error: 0.03321895070920266\n",
      "Mean squared error: 0.0014368566905226024\n",
      "Root mean squared error: 0.03790589255673321\n"
     ]
    }
   ],
   "source": [
    "df = pd.read_csv('C:/Users/koobie/laboratorium-lin-model-Jakubw449/PETROL.csv')\n",
    "\n",
    "depended_variables = ['Podatek_paliwowy', 'Sredni_przychod', 'Utwardzone_autostrady', 'Procent_ludnosci_z_prawem_jazdy']\n",
    "\n",
    "print(df.head())\n",
    "print(df.describe())\n",
    "print(df.shape)\n",
    "\n",
    "for variable in depended_variables:\n",
    "    df.plot.scatter('Zuzycie_paliwa', str(variable), title='Wstępny wykres')\n",
    "    plt.show()\n",
    "    H = df['Zuzycie_paliwa'].to_numpy()\n",
    "    S = df[variable].to_numpy()\n",
    "    H = H.reshape(-1, 1)\n",
    "    S = S.reshape(-1, 1)\n",
    "    H_train, H_test, S_train, S_test = model_selection.train_test_split(H, S, train_size=0.30, test_size=0.3)\n",
    "    reg = LinearRegression().fit(H_train, S_train)\n",
    "    print('Wspóczynnik modelu(coef_): ' + str(reg.coef_))\n",
    "    print('Wskaźnik modelu(intercept_): ' + str(reg.intercept_))\n",
    "    y_predict = reg.predict(H_test)\n",
    "    print('Wartości przewidywane: ')\n",
    "    print(y_predict)\n",
    "    print('\\n Wartości testowe: ')\n",
    "    print(S_test)\n",
    "    plt.scatter(H_test, S_test, label='wartości przewidywane')\n",
    "    plt.xlabel('Zuzycie_paliwa')\n",
    "    plt.ylabel(variable)\n",
    "    plt.plot(H_test ,y_predict, color='r', label='linia regresji')\n",
    "    plt.legend()\n",
    "    plt.title('Wyres konfrontujący dane testowe')\n",
    "    plt.show()\n",
    "    print('Mean absolute error: ' + str(metrics.mean_absolute_error(y_predict, S_test)))\n",
    "    print('Mean squared error: ' + str(metrics.mean_squared_error(y_predict, S_test)))\n",
    "    print('Root mean squared error: ' + str(np.sqrt(metrics.mean_squared_error(y_predict, S_test))))"
   ]
  },
  {
   "cell_type": "code",
   "execution_count": 13,
   "metadata": {},
   "outputs": [
    {
     "name": "stdout",
     "output_type": "stream",
     "text": [
      "   age  sex  cp trestbps chol fbs restecg thalach exang  oldpeak slope ca  \\\n",
      "0   28    1   2      130  132   0       2     185     0      0.0     ?  ?   \n",
      "1   29    1   2      120  243   0       0     160     0      0.0     ?  ?   \n",
      "2   29    1   2      140    ?   0       0     170     0      0.0     ?  ?   \n",
      "3   30    0   1      170  237   0       1     170     0      0.0     ?  ?   \n",
      "4   31    0   2      100  219   0       1     150     0      0.0     ?  ?   \n",
      "\n",
      "  thal  num         \n",
      "0    ?           0  \n",
      "1    ?           0  \n",
      "2    ?           0  \n",
      "3    6           0  \n",
      "4    ?           0  \n",
      "              age         sex          cp     oldpeak  num       \n",
      "count  294.000000  294.000000  294.000000  294.000000  294.000000\n",
      "mean    47.826531    0.724490    2.982993    0.586054    0.360544\n",
      "std      7.811812    0.447533    0.965117    0.908648    0.480977\n",
      "min     28.000000    0.000000    1.000000    0.000000    0.000000\n",
      "25%     42.000000    0.000000    2.000000    0.000000    0.000000\n",
      "50%     49.000000    1.000000    3.000000    0.000000    0.000000\n",
      "75%     54.000000    1.000000    4.000000    1.000000    1.000000\n",
      "max     66.000000    1.000000    4.000000    5.000000    1.000000\n",
      "(294, 14)\n"
     ]
    },
    {
     "data": {
      "text/html": [
       "<div>\n",
       "<style scoped>\n",
       "    .dataframe tbody tr th:only-of-type {\n",
       "        vertical-align: middle;\n",
       "    }\n",
       "\n",
       "    .dataframe tbody tr th {\n",
       "        vertical-align: top;\n",
       "    }\n",
       "\n",
       "    .dataframe thead th {\n",
       "        text-align: right;\n",
       "    }\n",
       "</style>\n",
       "<table border=\"1\" class=\"dataframe\">\n",
       "  <thead>\n",
       "    <tr style=\"text-align: right;\">\n",
       "      <th></th>\n",
       "      <th>age</th>\n",
       "      <th>sex</th>\n",
       "      <th>cp</th>\n",
       "      <th>trestbps</th>\n",
       "      <th>chol</th>\n",
       "      <th>fbs</th>\n",
       "      <th>restecg</th>\n",
       "      <th>thalach</th>\n",
       "      <th>exang</th>\n",
       "      <th>oldpeak</th>\n",
       "      <th>num</th>\n",
       "    </tr>\n",
       "  </thead>\n",
       "  <tbody>\n",
       "    <tr>\n",
       "      <th>0</th>\n",
       "      <td>28</td>\n",
       "      <td>1</td>\n",
       "      <td>2</td>\n",
       "      <td>130</td>\n",
       "      <td>132</td>\n",
       "      <td>0</td>\n",
       "      <td>2</td>\n",
       "      <td>185</td>\n",
       "      <td>0</td>\n",
       "      <td>0.0</td>\n",
       "      <td>0</td>\n",
       "    </tr>\n",
       "    <tr>\n",
       "      <th>1</th>\n",
       "      <td>29</td>\n",
       "      <td>1</td>\n",
       "      <td>2</td>\n",
       "      <td>120</td>\n",
       "      <td>243</td>\n",
       "      <td>0</td>\n",
       "      <td>0</td>\n",
       "      <td>160</td>\n",
       "      <td>0</td>\n",
       "      <td>0.0</td>\n",
       "      <td>0</td>\n",
       "    </tr>\n",
       "    <tr>\n",
       "      <th>3</th>\n",
       "      <td>30</td>\n",
       "      <td>0</td>\n",
       "      <td>1</td>\n",
       "      <td>170</td>\n",
       "      <td>237</td>\n",
       "      <td>0</td>\n",
       "      <td>1</td>\n",
       "      <td>170</td>\n",
       "      <td>0</td>\n",
       "      <td>0.0</td>\n",
       "      <td>0</td>\n",
       "    </tr>\n",
       "    <tr>\n",
       "      <th>4</th>\n",
       "      <td>31</td>\n",
       "      <td>0</td>\n",
       "      <td>2</td>\n",
       "      <td>100</td>\n",
       "      <td>219</td>\n",
       "      <td>0</td>\n",
       "      <td>1</td>\n",
       "      <td>150</td>\n",
       "      <td>0</td>\n",
       "      <td>0.0</td>\n",
       "      <td>0</td>\n",
       "    </tr>\n",
       "    <tr>\n",
       "      <th>5</th>\n",
       "      <td>32</td>\n",
       "      <td>0</td>\n",
       "      <td>2</td>\n",
       "      <td>105</td>\n",
       "      <td>198</td>\n",
       "      <td>0</td>\n",
       "      <td>0</td>\n",
       "      <td>165</td>\n",
       "      <td>0</td>\n",
       "      <td>0.0</td>\n",
       "      <td>0</td>\n",
       "    </tr>\n",
       "    <tr>\n",
       "      <th>...</th>\n",
       "      <td>...</td>\n",
       "      <td>...</td>\n",
       "      <td>...</td>\n",
       "      <td>...</td>\n",
       "      <td>...</td>\n",
       "      <td>...</td>\n",
       "      <td>...</td>\n",
       "      <td>...</td>\n",
       "      <td>...</td>\n",
       "      <td>...</td>\n",
       "      <td>...</td>\n",
       "    </tr>\n",
       "    <tr>\n",
       "      <th>289</th>\n",
       "      <td>52</td>\n",
       "      <td>1</td>\n",
       "      <td>4</td>\n",
       "      <td>160</td>\n",
       "      <td>331</td>\n",
       "      <td>0</td>\n",
       "      <td>0</td>\n",
       "      <td>94</td>\n",
       "      <td>1</td>\n",
       "      <td>2.5</td>\n",
       "      <td>1</td>\n",
       "    </tr>\n",
       "    <tr>\n",
       "      <th>290</th>\n",
       "      <td>54</td>\n",
       "      <td>0</td>\n",
       "      <td>3</td>\n",
       "      <td>130</td>\n",
       "      <td>294</td>\n",
       "      <td>0</td>\n",
       "      <td>1</td>\n",
       "      <td>100</td>\n",
       "      <td>1</td>\n",
       "      <td>0.0</td>\n",
       "      <td>1</td>\n",
       "    </tr>\n",
       "    <tr>\n",
       "      <th>291</th>\n",
       "      <td>56</td>\n",
       "      <td>1</td>\n",
       "      <td>4</td>\n",
       "      <td>155</td>\n",
       "      <td>342</td>\n",
       "      <td>1</td>\n",
       "      <td>0</td>\n",
       "      <td>150</td>\n",
       "      <td>1</td>\n",
       "      <td>3.0</td>\n",
       "      <td>1</td>\n",
       "    </tr>\n",
       "    <tr>\n",
       "      <th>292</th>\n",
       "      <td>58</td>\n",
       "      <td>0</td>\n",
       "      <td>2</td>\n",
       "      <td>180</td>\n",
       "      <td>393</td>\n",
       "      <td>0</td>\n",
       "      <td>0</td>\n",
       "      <td>110</td>\n",
       "      <td>1</td>\n",
       "      <td>1.0</td>\n",
       "      <td>1</td>\n",
       "    </tr>\n",
       "    <tr>\n",
       "      <th>293</th>\n",
       "      <td>65</td>\n",
       "      <td>1</td>\n",
       "      <td>4</td>\n",
       "      <td>130</td>\n",
       "      <td>275</td>\n",
       "      <td>0</td>\n",
       "      <td>1</td>\n",
       "      <td>115</td>\n",
       "      <td>1</td>\n",
       "      <td>1.0</td>\n",
       "      <td>1</td>\n",
       "    </tr>\n",
       "  </tbody>\n",
       "</table>\n",
       "<p>261 rows × 11 columns</p>\n",
       "</div>"
      ],
      "text/plain": [
       "     age  sex  cp trestbps chol fbs restecg thalach exang  oldpeak  num       \n",
       "0     28    1   2      130  132   0       2     185     0      0.0           0\n",
       "1     29    1   2      120  243   0       0     160     0      0.0           0\n",
       "3     30    0   1      170  237   0       1     170     0      0.0           0\n",
       "4     31    0   2      100  219   0       1     150     0      0.0           0\n",
       "5     32    0   2      105  198   0       0     165     0      0.0           0\n",
       "..   ...  ...  ..      ...  ...  ..     ...     ...   ...      ...         ...\n",
       "289   52    1   4      160  331   0       0      94     1      2.5           1\n",
       "290   54    0   3      130  294   0       1     100     1      0.0           1\n",
       "291   56    1   4      155  342   1       0     150     1      3.0           1\n",
       "292   58    0   2      180  393   0       0     110     1      1.0           1\n",
       "293   65    1   4      130  275   0       1     115     1      1.0           1\n",
       "\n",
       "[261 rows x 11 columns]"
      ]
     },
     "execution_count": 13,
     "metadata": {},
     "output_type": "execute_result"
    }
   ],
   "source": [
    "df = pd.read_csv('C:/Users/koobie/laboratorium-lin-model-Jakubw449/HEART.csv')\n",
    "print(df.head())\n",
    "print(df.describe())\n",
    "print(df.shape)\n",
    "df = df.replace('?', np.NaN)\n",
    "df = df.drop(columns=['slope', 'ca', 'thal'])\n",
    "df = df.dropna()\n",
    "df"
   ]
  },
  {
   "cell_type": "code",
   "execution_count": 14,
   "metadata": {},
   "outputs": [
    {
     "data": {
      "text/html": [
       "<div>\n",
       "<style scoped>\n",
       "    .dataframe tbody tr th:only-of-type {\n",
       "        vertical-align: middle;\n",
       "    }\n",
       "\n",
       "    .dataframe tbody tr th {\n",
       "        vertical-align: top;\n",
       "    }\n",
       "\n",
       "    .dataframe thead th {\n",
       "        text-align: right;\n",
       "    }\n",
       "</style>\n",
       "<table border=\"1\" class=\"dataframe\">\n",
       "  <thead>\n",
       "    <tr style=\"text-align: right;\">\n",
       "      <th></th>\n",
       "      <th>age</th>\n",
       "      <th>sex</th>\n",
       "      <th>trestbps</th>\n",
       "      <th>chol</th>\n",
       "      <th>fbs</th>\n",
       "      <th>thalach</th>\n",
       "      <th>exang</th>\n",
       "      <th>oldpeak</th>\n",
       "      <th>num</th>\n",
       "      <th>cp_1</th>\n",
       "      <th>cp_2</th>\n",
       "      <th>cp_3</th>\n",
       "      <th>cp_4</th>\n",
       "      <th>restecg_0</th>\n",
       "      <th>restecg_1</th>\n",
       "      <th>restecg_2</th>\n",
       "    </tr>\n",
       "  </thead>\n",
       "  <tbody>\n",
       "    <tr>\n",
       "      <th>0</th>\n",
       "      <td>28</td>\n",
       "      <td>1</td>\n",
       "      <td>130</td>\n",
       "      <td>132</td>\n",
       "      <td>0</td>\n",
       "      <td>185</td>\n",
       "      <td>0</td>\n",
       "      <td>0.0</td>\n",
       "      <td>0</td>\n",
       "      <td>0</td>\n",
       "      <td>1</td>\n",
       "      <td>0</td>\n",
       "      <td>0</td>\n",
       "      <td>0</td>\n",
       "      <td>0</td>\n",
       "      <td>1</td>\n",
       "    </tr>\n",
       "    <tr>\n",
       "      <th>1</th>\n",
       "      <td>29</td>\n",
       "      <td>1</td>\n",
       "      <td>120</td>\n",
       "      <td>243</td>\n",
       "      <td>0</td>\n",
       "      <td>160</td>\n",
       "      <td>0</td>\n",
       "      <td>0.0</td>\n",
       "      <td>0</td>\n",
       "      <td>0</td>\n",
       "      <td>1</td>\n",
       "      <td>0</td>\n",
       "      <td>0</td>\n",
       "      <td>1</td>\n",
       "      <td>0</td>\n",
       "      <td>0</td>\n",
       "    </tr>\n",
       "    <tr>\n",
       "      <th>3</th>\n",
       "      <td>30</td>\n",
       "      <td>0</td>\n",
       "      <td>170</td>\n",
       "      <td>237</td>\n",
       "      <td>0</td>\n",
       "      <td>170</td>\n",
       "      <td>0</td>\n",
       "      <td>0.0</td>\n",
       "      <td>0</td>\n",
       "      <td>1</td>\n",
       "      <td>0</td>\n",
       "      <td>0</td>\n",
       "      <td>0</td>\n",
       "      <td>0</td>\n",
       "      <td>1</td>\n",
       "      <td>0</td>\n",
       "    </tr>\n",
       "    <tr>\n",
       "      <th>4</th>\n",
       "      <td>31</td>\n",
       "      <td>0</td>\n",
       "      <td>100</td>\n",
       "      <td>219</td>\n",
       "      <td>0</td>\n",
       "      <td>150</td>\n",
       "      <td>0</td>\n",
       "      <td>0.0</td>\n",
       "      <td>0</td>\n",
       "      <td>0</td>\n",
       "      <td>1</td>\n",
       "      <td>0</td>\n",
       "      <td>0</td>\n",
       "      <td>0</td>\n",
       "      <td>1</td>\n",
       "      <td>0</td>\n",
       "    </tr>\n",
       "    <tr>\n",
       "      <th>5</th>\n",
       "      <td>32</td>\n",
       "      <td>0</td>\n",
       "      <td>105</td>\n",
       "      <td>198</td>\n",
       "      <td>0</td>\n",
       "      <td>165</td>\n",
       "      <td>0</td>\n",
       "      <td>0.0</td>\n",
       "      <td>0</td>\n",
       "      <td>0</td>\n",
       "      <td>1</td>\n",
       "      <td>0</td>\n",
       "      <td>0</td>\n",
       "      <td>1</td>\n",
       "      <td>0</td>\n",
       "      <td>0</td>\n",
       "    </tr>\n",
       "    <tr>\n",
       "      <th>...</th>\n",
       "      <td>...</td>\n",
       "      <td>...</td>\n",
       "      <td>...</td>\n",
       "      <td>...</td>\n",
       "      <td>...</td>\n",
       "      <td>...</td>\n",
       "      <td>...</td>\n",
       "      <td>...</td>\n",
       "      <td>...</td>\n",
       "      <td>...</td>\n",
       "      <td>...</td>\n",
       "      <td>...</td>\n",
       "      <td>...</td>\n",
       "      <td>...</td>\n",
       "      <td>...</td>\n",
       "      <td>...</td>\n",
       "    </tr>\n",
       "    <tr>\n",
       "      <th>289</th>\n",
       "      <td>52</td>\n",
       "      <td>1</td>\n",
       "      <td>160</td>\n",
       "      <td>331</td>\n",
       "      <td>0</td>\n",
       "      <td>94</td>\n",
       "      <td>1</td>\n",
       "      <td>2.5</td>\n",
       "      <td>1</td>\n",
       "      <td>0</td>\n",
       "      <td>0</td>\n",
       "      <td>0</td>\n",
       "      <td>1</td>\n",
       "      <td>1</td>\n",
       "      <td>0</td>\n",
       "      <td>0</td>\n",
       "    </tr>\n",
       "    <tr>\n",
       "      <th>290</th>\n",
       "      <td>54</td>\n",
       "      <td>0</td>\n",
       "      <td>130</td>\n",
       "      <td>294</td>\n",
       "      <td>0</td>\n",
       "      <td>100</td>\n",
       "      <td>1</td>\n",
       "      <td>0.0</td>\n",
       "      <td>1</td>\n",
       "      <td>0</td>\n",
       "      <td>0</td>\n",
       "      <td>1</td>\n",
       "      <td>0</td>\n",
       "      <td>0</td>\n",
       "      <td>1</td>\n",
       "      <td>0</td>\n",
       "    </tr>\n",
       "    <tr>\n",
       "      <th>291</th>\n",
       "      <td>56</td>\n",
       "      <td>1</td>\n",
       "      <td>155</td>\n",
       "      <td>342</td>\n",
       "      <td>1</td>\n",
       "      <td>150</td>\n",
       "      <td>1</td>\n",
       "      <td>3.0</td>\n",
       "      <td>1</td>\n",
       "      <td>0</td>\n",
       "      <td>0</td>\n",
       "      <td>0</td>\n",
       "      <td>1</td>\n",
       "      <td>1</td>\n",
       "      <td>0</td>\n",
       "      <td>0</td>\n",
       "    </tr>\n",
       "    <tr>\n",
       "      <th>292</th>\n",
       "      <td>58</td>\n",
       "      <td>0</td>\n",
       "      <td>180</td>\n",
       "      <td>393</td>\n",
       "      <td>0</td>\n",
       "      <td>110</td>\n",
       "      <td>1</td>\n",
       "      <td>1.0</td>\n",
       "      <td>1</td>\n",
       "      <td>0</td>\n",
       "      <td>1</td>\n",
       "      <td>0</td>\n",
       "      <td>0</td>\n",
       "      <td>1</td>\n",
       "      <td>0</td>\n",
       "      <td>0</td>\n",
       "    </tr>\n",
       "    <tr>\n",
       "      <th>293</th>\n",
       "      <td>65</td>\n",
       "      <td>1</td>\n",
       "      <td>130</td>\n",
       "      <td>275</td>\n",
       "      <td>0</td>\n",
       "      <td>115</td>\n",
       "      <td>1</td>\n",
       "      <td>1.0</td>\n",
       "      <td>1</td>\n",
       "      <td>0</td>\n",
       "      <td>0</td>\n",
       "      <td>0</td>\n",
       "      <td>1</td>\n",
       "      <td>0</td>\n",
       "      <td>1</td>\n",
       "      <td>0</td>\n",
       "    </tr>\n",
       "  </tbody>\n",
       "</table>\n",
       "<p>261 rows × 16 columns</p>\n",
       "</div>"
      ],
      "text/plain": [
       "     age  sex trestbps chol fbs thalach exang  oldpeak  num         cp_1  \\\n",
       "0     28    1      130  132   0     185     0      0.0           0     0   \n",
       "1     29    1      120  243   0     160     0      0.0           0     0   \n",
       "3     30    0      170  237   0     170     0      0.0           0     1   \n",
       "4     31    0      100  219   0     150     0      0.0           0     0   \n",
       "5     32    0      105  198   0     165     0      0.0           0     0   \n",
       "..   ...  ...      ...  ...  ..     ...   ...      ...         ...   ...   \n",
       "289   52    1      160  331   0      94     1      2.5           1     0   \n",
       "290   54    0      130  294   0     100     1      0.0           1     0   \n",
       "291   56    1      155  342   1     150     1      3.0           1     0   \n",
       "292   58    0      180  393   0     110     1      1.0           1     0   \n",
       "293   65    1      130  275   0     115     1      1.0           1     0   \n",
       "\n",
       "     cp_2  cp_3  cp_4  restecg_0  restecg_1  restecg_2  \n",
       "0       1     0     0          0          0          1  \n",
       "1       1     0     0          1          0          0  \n",
       "3       0     0     0          0          1          0  \n",
       "4       1     0     0          0          1          0  \n",
       "5       1     0     0          1          0          0  \n",
       "..    ...   ...   ...        ...        ...        ...  \n",
       "289     0     0     1          1          0          0  \n",
       "290     0     1     0          0          1          0  \n",
       "291     0     0     1          1          0          0  \n",
       "292     1     0     0          1          0          0  \n",
       "293     0     0     1          0          1          0  \n",
       "\n",
       "[261 rows x 16 columns]"
      ]
     },
     "execution_count": 14,
     "metadata": {},
     "output_type": "execute_result"
    }
   ],
   "source": [
    "df1 = pd.get_dummies(df, columns=['cp', 'restecg'])\n",
    "df1"
   ]
  },
  {
   "cell_type": "code",
   "execution_count": 35,
   "metadata": {},
   "outputs": [
    {
     "name": "stdout",
     "output_type": "stream",
     "text": [
      "              precision    recall  f1-score   support\n",
      "\n",
      "           0       1.00      1.00      1.00        38\n",
      "           1       1.00      1.00      1.00        15\n",
      "\n",
      "    accuracy                           1.00        53\n",
      "   macro avg       1.00      1.00      1.00        53\n",
      "weighted avg       1.00      1.00      1.00        53\n",
      "\n"
     ]
    }
   ],
   "source": [
    "df2 = df1.to_numpy()\n",
    "\n",
    "x_train, x_test, y_train, y_test = model_selection.train_test_split(df2, np.array(df1[\"cp_2\"]), test_size=0.2)\n",
    "reg = LogisticRegression(max_iter=1000).fit(x_train, y_train)\n",
    "predict = reg.predict(x_test)\n",
    "print(classification_report(y_test, predict))\n"
   ]
  }
 ],
 "metadata": {
  "kernelspec": {
   "display_name": "Python 3.9.12 ('kubaaibd')",
   "language": "python",
   "name": "python3"
  },
  "language_info": {
   "codemirror_mode": {
    "name": "ipython",
    "version": 3
   },
   "file_extension": ".py",
   "mimetype": "text/x-python",
   "name": "python",
   "nbconvert_exporter": "python",
   "pygments_lexer": "ipython3",
   "version": "3.9.12"
  },
  "orig_nbformat": 4,
  "vscode": {
   "interpreter": {
    "hash": "511debd6cc2913a5b68f844e0fc674ce01420456491d05b01a7f473994d8312b"
   }
  }
 },
 "nbformat": 4,
 "nbformat_minor": 2
}
