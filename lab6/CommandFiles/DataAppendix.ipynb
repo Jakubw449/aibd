{
 "cells": [
  {
   "cell_type": "code",
   "execution_count": 22,
   "metadata": {},
   "outputs": [],
   "source": [
    "import pandas as pd\n",
    "\n",
    "df = pd.read_csv('C:/Users/koobie/aibd/lab6/10_POMORSKIE.csv')"
   ]
  },
  {
   "cell_type": "code",
   "execution_count": 23,
   "metadata": {},
   "outputs": [
    {
     "data": {
      "text/html": [
       "<div>\n",
       "<style scoped>\n",
       "    .dataframe tbody tr th:only-of-type {\n",
       "        vertical-align: middle;\n",
       "    }\n",
       "\n",
       "    .dataframe tbody tr th {\n",
       "        vertical-align: top;\n",
       "    }\n",
       "\n",
       "    .dataframe thead th {\n",
       "        text-align: right;\n",
       "    }\n",
       "</style>\n",
       "<table border=\"1\" class=\"dataframe\">\n",
       "  <thead>\n",
       "    <tr style=\"text-align: right;\">\n",
       "      <th></th>\n",
       "      <th>Unnamed: 0</th>\n",
       "      <th>Dni od zakupu</th>\n",
       "      <th>Marka</th>\n",
       "      <th>Wiek kupującego</th>\n",
       "      <th>Płeć kupującego</th>\n",
       "      <th>Ocena</th>\n",
       "    </tr>\n",
       "  </thead>\n",
       "  <tbody>\n",
       "    <tr>\n",
       "      <th>0</th>\n",
       "      <td>0</td>\n",
       "      <td>5</td>\n",
       "      <td>Beko</td>\n",
       "      <td>38.0</td>\n",
       "      <td>bd.</td>\n",
       "      <td>5.0</td>\n",
       "    </tr>\n",
       "    <tr>\n",
       "      <th>1</th>\n",
       "      <td>1</td>\n",
       "      <td>4</td>\n",
       "      <td>Dyson</td>\n",
       "      <td>37.0</td>\n",
       "      <td>bd.</td>\n",
       "      <td>3.5</td>\n",
       "    </tr>\n",
       "    <tr>\n",
       "      <th>2</th>\n",
       "      <td>2</td>\n",
       "      <td>10</td>\n",
       "      <td>Samsung</td>\n",
       "      <td>20.0</td>\n",
       "      <td>bd.</td>\n",
       "      <td>2.5</td>\n",
       "    </tr>\n",
       "    <tr>\n",
       "      <th>3</th>\n",
       "      <td>3</td>\n",
       "      <td>14</td>\n",
       "      <td>Tefal</td>\n",
       "      <td>48.0</td>\n",
       "      <td>K</td>\n",
       "      <td>2.5</td>\n",
       "    </tr>\n",
       "    <tr>\n",
       "      <th>4</th>\n",
       "      <td>4</td>\n",
       "      <td>7</td>\n",
       "      <td>Electrolux</td>\n",
       "      <td>39.0</td>\n",
       "      <td>bd.</td>\n",
       "      <td>4.5</td>\n",
       "    </tr>\n",
       "    <tr>\n",
       "      <th>...</th>\n",
       "      <td>...</td>\n",
       "      <td>...</td>\n",
       "      <td>...</td>\n",
       "      <td>...</td>\n",
       "      <td>...</td>\n",
       "      <td>...</td>\n",
       "    </tr>\n",
       "    <tr>\n",
       "      <th>547</th>\n",
       "      <td>547</td>\n",
       "      <td>15</td>\n",
       "      <td>Electrolux</td>\n",
       "      <td>29.0</td>\n",
       "      <td>bd.</td>\n",
       "      <td>3.0</td>\n",
       "    </tr>\n",
       "    <tr>\n",
       "      <th>548</th>\n",
       "      <td>548</td>\n",
       "      <td>10</td>\n",
       "      <td>Samsung</td>\n",
       "      <td>45.0</td>\n",
       "      <td>bd.</td>\n",
       "      <td>2.5</td>\n",
       "    </tr>\n",
       "    <tr>\n",
       "      <th>549</th>\n",
       "      <td>549</td>\n",
       "      <td>7</td>\n",
       "      <td>Samsung</td>\n",
       "      <td>62.0</td>\n",
       "      <td>M</td>\n",
       "      <td>4.0</td>\n",
       "    </tr>\n",
       "    <tr>\n",
       "      <th>550</th>\n",
       "      <td>550</td>\n",
       "      <td>2</td>\n",
       "      <td>Tefal</td>\n",
       "      <td>37.0</td>\n",
       "      <td>K</td>\n",
       "      <td>4.0</td>\n",
       "    </tr>\n",
       "    <tr>\n",
       "      <th>551</th>\n",
       "      <td>551</td>\n",
       "      <td>11</td>\n",
       "      <td>Electrolux</td>\n",
       "      <td>43.0</td>\n",
       "      <td>K</td>\n",
       "      <td>3.5</td>\n",
       "    </tr>\n",
       "  </tbody>\n",
       "</table>\n",
       "<p>552 rows × 6 columns</p>\n",
       "</div>"
      ],
      "text/plain": [
       "     Unnamed: 0  Dni od zakupu       Marka  Wiek kupującego Płeć kupującego  \\\n",
       "0             0              5        Beko             38.0             bd.   \n",
       "1             1              4       Dyson             37.0             bd.   \n",
       "2             2             10     Samsung             20.0             bd.   \n",
       "3             3             14       Tefal             48.0               K   \n",
       "4             4              7  Electrolux             39.0             bd.   \n",
       "..          ...            ...         ...              ...             ...   \n",
       "547         547             15  Electrolux             29.0             bd.   \n",
       "548         548             10     Samsung             45.0             bd.   \n",
       "549         549              7     Samsung             62.0               M   \n",
       "550         550              2       Tefal             37.0               K   \n",
       "551         551             11  Electrolux             43.0               K   \n",
       "\n",
       "     Ocena  \n",
       "0      5.0  \n",
       "1      3.5  \n",
       "2      2.5  \n",
       "3      2.5  \n",
       "4      4.5  \n",
       "..     ...  \n",
       "547    3.0  \n",
       "548    2.5  \n",
       "549    4.0  \n",
       "550    4.0  \n",
       "551    3.5  \n",
       "\n",
       "[552 rows x 6 columns]"
      ]
     },
     "execution_count": 23,
     "metadata": {},
     "output_type": "execute_result"
    }
   ],
   "source": [
    "df"
   ]
  },
  {
   "cell_type": "code",
   "execution_count": 45,
   "metadata": {},
   "outputs": [
    {
     "name": "stdout",
     "output_type": "stream",
     "text": [
      "Średni dzień od zakupu: 7.005434782608695\n",
      "Mediana: 7.0\n"
     ]
    },
    {
     "data": {
      "image/png": "[encoded data removed]",
      "text/plain": [
       "<Figure size 432x288 with 1 Axes>"
      ]
     },
     "metadata": {
      "needs_background": "light"
     },
     "output_type": "display_data"
    }
   ],
   "source": [
    "df_2 = df['Dni od zakupu'].value_counts().sort_index()\n",
    "ax = df_2.plot.bar()\n",
    "ax.set_xlabel('Liczba dni od zakupu')\n",
    "ax.set_ylabel('ilość występowania danej liczby')\n",
    "ax.set_title('Wykres dni od zakupu')\n",
    "ax.grid()\n",
    "mean = df['Dni od zakupu'].mean()\n",
    "print('Średni dzień od zakupu: ' + str(mean))\n",
    "median = df['Dni od zakupu'].median()\n",
    "print('Mediana: ' + str(median))"
   ]
  },
  {
   "cell_type": "code",
   "execution_count": 32,
   "metadata": {},
   "outputs": [
    {
     "name": "stdout",
     "output_type": "stream",
     "text": [
      "Średnia ilość sprzedaży na markę: 110.4\n",
      "Mediana: 104.0\n"
     ]
    },
    {
     "data": {
      "image/png": "[encoded data removed]",
      "text/plain": [
       "<Figure size 432x288 with 1 Axes>"
      ]
     },
     "metadata": {
      "needs_background": "light"
     },
     "output_type": "display_data"
    }
   ],
   "source": [
    "df_2 = df['Marka'].value_counts().sort_index()\n",
    "ax = df_2.plot.bar()\n",
    "ax.set_xlabel('Marka')\n",
    "ax.set_ylabel('ilość sprzedaży')\n",
    "ax.set_title('Wykres ilości sprzedaży danej marki')\n",
    "ax.grid()\n",
    "ax.plot()\n",
    "mean = df_2.mean()\n",
    "print('Średnia ilość sprzedaży na markę: ' + str(mean))\n",
    "median = df_2.median()\n",
    "print('Mediana: ' + str(median))"
   ]
  },
  {
   "cell_type": "code",
   "execution_count": 57,
   "metadata": {},
   "outputs": [
    {
     "name": "stdout",
     "output_type": "stream",
     "text": [
      "Średnia wieku: 39.816901408450704\n",
      "Mediana: 40.0\n"
     ]
    },
    {
     "data": {
      "image/png": "[encoded data removed]",
      "text/plain": [
       "<Figure size 1080x360 with 1 Axes>"
      ]
     },
     "metadata": {
      "needs_background": "light"
     },
     "output_type": "display_data"
    }
   ],
   "source": [
    "df_2 = df['Wiek kupującego'].value_counts().sort_index()\n",
    "ax = df_2.plot.bar(figsize=(15,5))\n",
    "ax.set_xlabel('wiek')\n",
    "ax.set_ylabel('ilość')\n",
    "ax.set_title('Wykres wieku')\n",
    "ax.grid()\n",
    "ax.plot()\n",
    "mean = df['Wiek kupującego'].mean()\n",
    "print('Średnia wieku: ' + str(mean))\n",
    "median = df['Wiek kupującego'].median()\n",
    "print('Mediana: ' + str(median))"
   ]
  },
  {
   "cell_type": "code",
   "execution_count": 44,
   "metadata": {},
   "outputs": [
    {
     "name": "stdout",
     "output_type": "stream",
     "text": [
      "Najczęstsza płeć: bd.\n",
      "Mediana: 145.0\n"
     ]
    },
    {
     "data": {
      "image/png": "[encoded data removed]",
      "text/plain": [
       "<Figure size 432x288 with 1 Axes>"
      ]
     },
     "metadata": {
      "needs_background": "light"
     },
     "output_type": "display_data"
    }
   ],
   "source": [
    "df_2 = df['Płeć kupującego'].value_counts().sort_index()\n",
    "ax = df_2.plot.bar()\n",
    "ax.set_xlabel('Płeć')\n",
    "ax.set_ylabel('ilość')\n",
    "ax.set_title('Wykres płci')\n",
    "ax.grid()\n",
    "ax.plot()\n",
    "most_frequent = df['Płeć kupującego'].value_counts().idxmax()\n",
    "print('Najczęstsza płeć: ' + most_frequent)\n",
    "median = df_2.median()\n",
    "print('Mediana: ' + str(median))"
   ]
  },
  {
   "cell_type": "code",
   "execution_count": 36,
   "metadata": {},
   "outputs": [
    {
     "name": "stdout",
     "output_type": "stream",
     "text": [
      "Średnia ocena: 2.4954710144927534\n",
      "Mediana: 2.5\n"
     ]
    },
    {
     "data": {
      "image/png": "[encoded data removed]",
      "text/plain": [
       "<Figure size 432x288 with 1 Axes>"
      ]
     },
     "metadata": {
      "needs_background": "light"
     },
     "output_type": "display_data"
    }
   ],
   "source": [
    "df_2 = df['Ocena'].value_counts().sort_index()\n",
    "ax = df_2.plot.bar()\n",
    "ax.set_xlabel('Ocena')\n",
    "ax.set_ylabel('ilość')\n",
    "ax.set_title('Wykres ocen')\n",
    "ax.grid()\n",
    "ax.plot()\n",
    "mean = df['Ocena'].mean()\n",
    "print('Średnia ocena: ' + str(mean))\n",
    "median = df['Ocena'].median()\n",
    "print('Mediana: ' + str(median))"
   ]
  }
 ],
 "metadata": {
  "kernelspec": {
   "display_name": "Python 3.9.12 ('base')",
   "language": "python",
   "name": "python3"
  },
  "language_info": {
   "codemirror_mode": {
    "name": "ipython",
    "version": 3
   },
   "file_extension": ".py",
   "mimetype": "text/x-python",
   "name": "python",
   "nbconvert_exporter": "python",
   "pygments_lexer": "ipython3",
   "version": "3.9.12"
  },
  "orig_nbformat": 4,
  "vscode": {
   "interpreter": {
    "hash": "ff7d25e872dafda90ded630448d0fde775606bc7a50ed7dd2da65ea48435be57"
   }
  }
 },
 "nbformat": 4,
 "nbformat_minor": 2
}
